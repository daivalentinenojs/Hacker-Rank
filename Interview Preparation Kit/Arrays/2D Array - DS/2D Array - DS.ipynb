{
 "cells": [
  {
   "cell_type": "code",
   "execution_count": 1,
   "metadata": {},
   "outputs": [],
   "source": [
    "# Title           : 2D Array - DS\n",
    "# Created By      : Daivalentineno Janitra Salim\n",
    "# Created In      : Taiwan\n",
    "# Created On      : 6th October 2020 10:00 (GMT+8)\n",
    "# Last Updated By : -\n",
    "# Last Updated In : -\n",
    "# Last Updated On : -"
   ]
  },
  {
   "cell_type": "code",
   "execution_count": 2,
   "metadata": {},
   "outputs": [],
   "source": [
    "#!/bin/python3\n",
    "\n",
    "import math\n",
    "import os\n",
    "import random\n",
    "import re\n",
    "import sys"
   ]
  },
  {
   "cell_type": "code",
   "execution_count": 3,
   "metadata": {},
   "outputs": [],
   "source": [
    "# Complete the hourglassSum function below.\n",
    "\n",
    "def hourglassSum(arr):\n",
    "    \n",
    "    total = float('-inf')\n",
    "    current_total = 0\n",
    "    index_i = 0\n",
    "    index_j = 0\n",
    "    \n",
    "    for i in range(4): \n",
    "        for j in range(4):\n",
    "\n",
    "            current_total = arr[i][j] + arr[i][j+1] + arr[i][j+2] + arr[i+1][j+1] + arr[i+2][j] + arr[i+2][j+1] + arr[i+2][j+2]    \n",
    "\n",
    "            if current_total > total:\n",
    "                total = current_total\n",
    "                index_i = i\n",
    "                index_j = j\n",
    "    \n",
    "    return total"
   ]
  },
  {
   "cell_type": "code",
   "execution_count": 4,
   "metadata": {},
   "outputs": [
    {
     "name": "stdout",
     "output_type": "stream",
     "text": [
      "19\n",
      "13\n",
      "28\n"
     ]
    }
   ],
   "source": [
    "if __name__ == '__main__':\n",
    "    \n",
    "    # Test Case 1\n",
    "    array_input = [ [1, 1, 1, 0, 0, 0],\n",
    "                    [0, 1, 0, 0, 0, 0],\n",
    "                    [1, 1, 1, 0, 0, 0],\n",
    "                    [0, 0, 2, 4, 4, 0],\n",
    "                    [0, 0, 0, 2, 0, 0],\n",
    "                    [0, 0, 1, 2, 4, 0] ]\n",
    "    result = hourglassSum(array_input)\n",
    "    print(result)\n",
    "    \n",
    "    # Test Case 2\n",
    "    array_input = [ [1, 1,  1,  0,  0, 0],\n",
    "                    [0, 1,  0,  0,  0, 0],\n",
    "                    [1, 1,  1,  0,  0, 0],\n",
    "                    [0, 9,  2, -4, -4, 0],\n",
    "                    [0, 0,  0, -2,  0, 0],\n",
    "                    [0, 0, -1, -2, -4, 0] ]\n",
    "    result = hourglassSum(array_input)\n",
    "    print(result)\n",
    "    \n",
    "    # Test Case 3\n",
    "    array_input = [ [-9, -9, -9,  1, 1, 1],\n",
    "                    [ 0, -9,  0,  4, 3, 2],\n",
    "                    [-9, -9, -9,  1, 2, 3],\n",
    "                    [ 0,  0,  8,  6, 6, 0],\n",
    "                    [ 0,  0,  0, -2, 0, 0],\n",
    "                    [ 0,  0,  1,  2, 4, 0] ]\n",
    "    result = hourglassSum(array_input)\n",
    "    print(result)"
   ]
  }
 ],
 "metadata": {
  "kernelspec": {
   "display_name": "Python 3",
   "language": "python",
   "name": "python3"
  },
  "language_info": {
   "codemirror_mode": {
    "name": "ipython",
    "version": 3
   },
   "file_extension": ".py",
   "mimetype": "text/x-python",
   "name": "python",
   "nbconvert_exporter": "python",
   "pygments_lexer": "ipython3",
   "version": "3.7.3"
  }
 },
 "nbformat": 4,
 "nbformat_minor": 2
}
