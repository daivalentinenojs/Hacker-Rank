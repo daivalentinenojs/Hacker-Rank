{
 "cells": [
  {
   "cell_type": "code",
   "execution_count": 1,
   "metadata": {},
   "outputs": [],
   "source": [
    "# Title           : Array Manipulation\n",
    "# Created By      : Daivalentineno Janitra Salim\n",
    "# Created In      : Taiwan\n",
    "# Created On      : 6th October 2020 15:00 (GMT+8)\n",
    "# Last Updated By : -\n",
    "# Last Updated In : -\n",
    "# Last Updated On : -"
   ]
  },
  {
   "cell_type": "code",
   "execution_count": 2,
   "metadata": {},
   "outputs": [],
   "source": [
    "#!/bin/python3\n",
    "\n",
    "import math\n",
    "import os\n",
    "import random\n",
    "import re\n",
    "import sys"
   ]
  },
  {
   "cell_type": "code",
   "execution_count": 3,
   "metadata": {},
   "outputs": [],
   "source": [
    "# Complete the arrayManipulation function below.\n",
    "\n",
    "def arrayManipulation(n, queries):\n",
    "    output_array = [0] * (n + 1)\n",
    "\n",
    "    for data in queries:\n",
    "        a = data[0] - 1\n",
    "        b = data[1]\n",
    "        k = data[2]\n",
    "\n",
    "        output_array[a] += k\n",
    "        output_array[b] -= k\n",
    "    \n",
    "    max_value = 0\n",
    "    count = 0\n",
    "\n",
    "    for i in output_array:\n",
    "        count += i\n",
    "        if count > max_value:\n",
    "            max_value = count\n",
    "    \n",
    "    return max_value"
   ]
  },
  {
   "cell_type": "code",
   "execution_count": 4,
   "metadata": {},
   "outputs": [
    {
     "name": "stdout",
     "output_type": "stream",
     "text": [
      "200\n",
      "10\n",
      "31\n"
     ]
    }
   ],
   "source": [
    "if __name__ == '__main__':\n",
    "    \n",
    "    # Test Case 1\n",
    "    n = 5\n",
    "    queries = [ [1, 2, 100],\n",
    "                [2, 5, 100],\n",
    "                [3, 4, 100] ]\n",
    "    result = arrayManipulation(n, queries)\n",
    "    print(result)\n",
    "    \n",
    "    # Test Case 2\n",
    "    n = 10\n",
    "    queries = [ [1, 5, 3],\n",
    "                [4, 8, 7],\n",
    "                [6, 9, 1] ]\n",
    "    result = arrayManipulation(n, queries)\n",
    "    print(result)\n",
    "    \n",
    "    # Test Case 3\n",
    "    n = 10\n",
    "    queries = [ [2, 6, 8],\n",
    "                [3, 5, 7],\n",
    "                [1, 8, 1],\n",
    "                [5, 9, 15] ]\n",
    "    result = arrayManipulation(n, queries)\n",
    "    print(result)"
   ]
  }
 ],
 "metadata": {
  "kernelspec": {
   "display_name": "Python 3",
   "language": "python",
   "name": "python3"
  },
  "language_info": {
   "codemirror_mode": {
    "name": "ipython",
    "version": 3
   },
   "file_extension": ".py",
   "mimetype": "text/x-python",
   "name": "python",
   "nbconvert_exporter": "python",
   "pygments_lexer": "ipython3",
   "version": "3.7.3"
  }
 },
 "nbformat": 4,
 "nbformat_minor": 2
}
