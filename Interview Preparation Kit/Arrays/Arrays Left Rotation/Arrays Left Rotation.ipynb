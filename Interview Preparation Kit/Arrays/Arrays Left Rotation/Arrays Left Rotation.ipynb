{
 "cells": [
  {
   "cell_type": "code",
   "execution_count": 1,
   "metadata": {},
   "outputs": [],
   "source": [
    "# Title           : Arrays Left Rotation\n",
    "# Created By      : Daivalentineno Janitra Salim\n",
    "# Created In      : Taiwan\n",
    "# Created On      : 6th October 2020 11:00 (GMT+8)\n",
    "# Last Updated By : -\n",
    "# Last Updated In : -\n",
    "# Last Updated On : -"
   ]
  },
  {
   "cell_type": "code",
   "execution_count": 2,
   "metadata": {},
   "outputs": [],
   "source": [
    "#!/bin/python3\n",
    "\n",
    "import math\n",
    "import os\n",
    "import random\n",
    "import re\n",
    "import sys"
   ]
  },
  {
   "cell_type": "code",
   "execution_count": 3,
   "metadata": {},
   "outputs": [],
   "source": [
    "# Complete the rotLeft function below.\n",
    "\n",
    "def rotLeft(a, d):\n",
    "    newArr = []\n",
    "    k = 0\n",
    "    for i in range(len(a)):\n",
    "        if i+d < len(a):\n",
    "            newArr.append(a[i+d])\n",
    "        else:\n",
    "            newArr.append(a[k])\n",
    "            k+=1\n",
    "    return newArr"
   ]
  },
  {
   "cell_type": "code",
   "execution_count": 4,
   "metadata": {},
   "outputs": [
    {
     "name": "stdout",
     "output_type": "stream",
     "text": [
      "[5, 1, 2, 3, 4]\n",
      "[77, 97, 58, 1, 86, 58, 26, 10, 86, 51, 41, 73, 89, 7, 10, 1, 59, 58, 84, 77]\n",
      "[87, 97, 33, 47, 70, 37, 8, 53, 13, 93, 71, 72, 51, 100, 60]\n"
     ]
    }
   ],
   "source": [
    "if __name__ == '__main__':\n",
    "    \n",
    "    # Test Case 1\n",
    "    d = 4\n",
    "    a = [1, 2, 3, 4, 5]\n",
    "    result = rotLeft(a, d)\n",
    "    print(result)\n",
    "    \n",
    "    # Test Case 2\n",
    "    d = 10\n",
    "    a = [41, 73, 89, 7, 10, 1, 59, 58, 84, 77, 77, 97, 58, 1, 86, 58, 26, 10, 86, 51]\n",
    "    result = rotLeft(a, d)\n",
    "    print(result)\n",
    "    \n",
    "    # Test Case 3\n",
    "    d = 13\n",
    "    a = [33, 47, 70, 37, 8, 53, 13, 93, 71, 72, 51, 100, 60, 87, 97]\n",
    "    result = rotLeft(a, d)\n",
    "    print(result)"
   ]
  }
 ],
 "metadata": {
  "kernelspec": {
   "display_name": "Python 3",
   "language": "python",
   "name": "python3"
  },
  "language_info": {
   "codemirror_mode": {
    "name": "ipython",
    "version": 3
   },
   "file_extension": ".py",
   "mimetype": "text/x-python",
   "name": "python",
   "nbconvert_exporter": "python",
   "pygments_lexer": "ipython3",
   "version": "3.7.3"
  }
 },
 "nbformat": 4,
 "nbformat_minor": 2
}
