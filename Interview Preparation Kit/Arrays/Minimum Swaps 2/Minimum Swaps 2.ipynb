{
 "cells": [
  {
   "cell_type": "code",
   "execution_count": 1,
   "metadata": {},
   "outputs": [],
   "source": [
    "# Title           : Minimum Swaps 2\n",
    "# Created By      : Daivalentineno Janitra Salim\n",
    "# Created In      : Taiwan\n",
    "# Created On      : 6th October 2020 13:00 (GMT+8)\n",
    "# Last Updated By : -\n",
    "# Last Updated In : -\n",
    "# Last Updated On : -"
   ]
  },
  {
   "cell_type": "code",
   "execution_count": 2,
   "metadata": {},
   "outputs": [],
   "source": [
    "#!/bin/python3\n",
    "\n",
    "import math\n",
    "import os\n",
    "import random\n",
    "import re\n",
    "import sys"
   ]
  },
  {
   "cell_type": "code",
   "execution_count": 3,
   "metadata": {},
   "outputs": [],
   "source": [
    "# Complete the minimumSwaps function below.\n",
    "\n",
    "def minimumSwaps(arr):\n",
    "    temp = [0] * (len(arr) + 1)\n",
    "    \n",
    "    for pos, val in enumerate(arr):\n",
    "        temp[val] = pos\n",
    "\n",
    "    swaps = 0\n",
    "    for i in range(len(arr)):\n",
    "        if arr[i] != i+1:\n",
    "            swaps += 1\n",
    "            t = arr[i]\n",
    "            arr[i] = i+1\n",
    "            arr[temp[i+1]] = t\n",
    "            temp[t] = temp[i+1]\n",
    "    return swaps  "
   ]
  },
  {
   "cell_type": "code",
   "execution_count": 4,
   "metadata": {},
   "outputs": [
    {
     "name": "stdout",
     "output_type": "stream",
     "text": [
      "3\n",
      "3\n",
      "3\n"
     ]
    }
   ],
   "source": [
    "if __name__ == '__main__':\n",
    "    \n",
    "    # Test Case 1\n",
    "    arr = [4, 3, 1, 2]\n",
    "    result = minimumSwaps(arr)\n",
    "    print(result)\n",
    "    \n",
    "    # Test Case 2\n",
    "    arr = [2, 3, 4, 1, 5]\n",
    "    result = minimumSwaps(arr)\n",
    "    print(result)\n",
    "    \n",
    "    # Test Case 3\n",
    "    arr = [1, 3, 5, 2, 4, 6, 7]\n",
    "    result = minimumSwaps(arr)\n",
    "    print(result)"
   ]
  }
 ],
 "metadata": {
  "kernelspec": {
   "display_name": "Python 3",
   "language": "python",
   "name": "python3"
  },
  "language_info": {
   "codemirror_mode": {
    "name": "ipython",
    "version": 3
   },
   "file_extension": ".py",
   "mimetype": "text/x-python",
   "name": "python",
   "nbconvert_exporter": "python",
   "pygments_lexer": "ipython3",
   "version": "3.7.3"
  }
 },
 "nbformat": 4,
 "nbformat_minor": 2
}
