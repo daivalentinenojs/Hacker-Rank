{
 "cells": [
  {
   "cell_type": "code",
   "execution_count": 1,
   "metadata": {},
   "outputs": [],
   "source": [
    "# Title           : New Year Chaos\n",
    "# Created By      : Daivalentineno Janitra Salim\n",
    "# Created In      : Taiwan\n",
    "# Created On      : 6th October 2020 12:00 (GMT+8)\n",
    "# Last Updated By : -\n",
    "# Last Updated In : -\n",
    "# Last Updated On : -"
   ]
  },
  {
   "cell_type": "code",
   "execution_count": 2,
   "metadata": {},
   "outputs": [],
   "source": [
    "#!/bin/python3\n",
    "\n",
    "import math\n",
    "import os\n",
    "import random\n",
    "import re\n",
    "import sys"
   ]
  },
  {
   "cell_type": "code",
   "execution_count": 3,
   "metadata": {},
   "outputs": [],
   "source": [
    "# Complete the minimumBribes function below.\n",
    "\n",
    "def minimumBribes(q):\n",
    "    count = 0\n",
    "    for i in range (len(q) - 1, -1, -1):\n",
    "        if q[i] - i > 3:\n",
    "            print (\"Too chaotic\")\n",
    "            count = 0\n",
    "            break\n",
    "        for j in range(max(0, q[i] - 2), i):\n",
    "            if q[j] > q[i]:\n",
    "                count += 1\n",
    "    if count != 0:\n",
    "        print (count)"
   ]
  },
  {
   "cell_type": "code",
   "execution_count": 4,
   "metadata": {},
   "outputs": [
    {
     "name": "stdout",
     "output_type": "stream",
     "text": [
      "3\n",
      "Too chaotic\n",
      "Too chaotic\n",
      "7\n",
      "4\n"
     ]
    }
   ],
   "source": [
    "if __name__ == '__main__':\n",
    "    \n",
    "    # Test Case 1-1\n",
    "    q = [2, 1, 5, 3, 4]\n",
    "    minimumBribes(q)\n",
    "    \n",
    "    # Test Case 1-2\n",
    "    q = [2, 5, 1, 3, 4]\n",
    "    minimumBribes(q)\n",
    "    \n",
    "    # Test Case 2-1\n",
    "    q = [5, 1, 2, 3, 7, 8, 6, 4]\n",
    "    minimumBribes(q)\n",
    "    \n",
    "    # Test Case 2-2\n",
    "    q = [1, 2, 5, 3, 7, 8, 6, 4]\n",
    "    minimumBribes(q)\n",
    "    \n",
    "    # Test Case 3-1\n",
    "    q = [1, 2, 5, 3, 4, 7, 8, 6]\n",
    "    minimumBribes(q)"
   ]
  }
 ],
 "metadata": {
  "kernelspec": {
   "display_name": "Python 3",
   "language": "python",
   "name": "python3"
  },
  "language_info": {
   "codemirror_mode": {
    "name": "ipython",
    "version": 3
   },
   "file_extension": ".py",
   "mimetype": "text/x-python",
   "name": "python",
   "nbconvert_exporter": "python",
   "pygments_lexer": "ipython3",
   "version": "3.7.3"
  }
 },
 "nbformat": 4,
 "nbformat_minor": 2
}
