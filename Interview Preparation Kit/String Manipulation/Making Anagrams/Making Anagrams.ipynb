{
 "cells": [
  {
   "cell_type": "code",
   "execution_count": 1,
   "metadata": {},
   "outputs": [],
   "source": [
    "# Title           : Making Anagrams\n",
    "# Created By      : Daivalentineno Janitra Salim\n",
    "# Created In      : Taiwan\n",
    "# Created On      : 8th October 2020 20:00 (GMT+8)\n",
    "# Last Updated By : -\n",
    "# Last Updated In : -\n",
    "# Last Updated On : -"
   ]
  },
  {
   "cell_type": "code",
   "execution_count": 2,
   "metadata": {},
   "outputs": [],
   "source": [
    "#!/bin/python3\n",
    "\n",
    "import math\n",
    "import os\n",
    "import random\n",
    "import re\n",
    "import sys"
   ]
  },
  {
   "cell_type": "code",
   "execution_count": 3,
   "metadata": {},
   "outputs": [],
   "source": [
    "# Complete the makeAnagram function below.\n",
    "\n",
    "def makeAnagram(a, b):\n",
    "    dict_count = dict()\n",
    "    for i in a:\n",
    "        if i in dict_count:\n",
    "            dict_count[i] += 1\n",
    "        else:\n",
    "            dict_count[i] = 1\n",
    "    \n",
    "    for i in b:\n",
    "        if i in dict_count:\n",
    "            dict_count[i] -= 1\n",
    "        else:\n",
    "            dict_count[i] = -1\n",
    "\n",
    "    count = 0\n",
    "    for i in dict_count:\n",
    "        if dict_count[i] != 0:\n",
    "            count += abs(dict_count[i])\n",
    "    return count"
   ]
  },
  {
   "cell_type": "code",
   "execution_count": 4,
   "metadata": {},
   "outputs": [
    {
     "name": "stdout",
     "output_type": "stream",
     "text": [
      "4\n",
      "30\n",
      "2\n"
     ]
    }
   ],
   "source": [
    "if __name__ == '__main__':\n",
    "    \n",
    "    # Test Case 1\n",
    "    a = \"cde\"\n",
    "    b = \"abc\"\n",
    "    result = makeAnagram(a, b)\n",
    "    print(result)\n",
    "    \n",
    "    # Test Case 2\n",
    "    a = \"fcrxzwscanmligyxyvym\"\n",
    "    b = \"jxwtrhvujlmrpdoqbisbwhmgpmeoke\"\n",
    "    result = makeAnagram(a, b)\n",
    "    print(result)\n",
    "    \n",
    "    # Test Case 1\n",
    "    a = \"showman\"\n",
    "    b = \"woman\"\n",
    "    result = makeAnagram(a, b)\n",
    "    print(result)"
   ]
  }
 ],
 "metadata": {
  "kernelspec": {
   "display_name": "Python 3",
   "language": "python",
   "name": "python3"
  },
  "language_info": {
   "codemirror_mode": {
    "name": "ipython",
    "version": 3
   },
   "file_extension": ".py",
   "mimetype": "text/x-python",
   "name": "python",
   "nbconvert_exporter": "python",
   "pygments_lexer": "ipython3",
   "version": "3.7.3"
  }
 },
 "nbformat": 4,
 "nbformat_minor": 2
}
