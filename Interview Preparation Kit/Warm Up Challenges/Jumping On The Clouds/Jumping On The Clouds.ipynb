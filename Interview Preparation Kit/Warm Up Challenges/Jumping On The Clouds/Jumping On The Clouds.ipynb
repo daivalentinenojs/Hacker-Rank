{
 "cells": [
  {
   "cell_type": "code",
   "execution_count": 1,
   "metadata": {},
   "outputs": [],
   "source": [
    "# Title           : Jumping On The Clouds\n",
    "# Created By      : Daivalentineno Janitra Salim\n",
    "# Created In      : Taiwan\n",
    "# Created On      : 5th October 2020 10:00 (GMT+8)\n",
    "# Last Updated By : -\n",
    "# Last Updated In : -\n",
    "# Last Updated On : -"
   ]
  },
  {
   "cell_type": "code",
   "execution_count": 2,
   "metadata": {},
   "outputs": [],
   "source": [
    "#!/bin/python3\n",
    "\n",
    "import math\n",
    "import os\n",
    "import random\n",
    "import re\n",
    "import sys"
   ]
  },
  {
   "cell_type": "code",
   "execution_count": 3,
   "metadata": {},
   "outputs": [],
   "source": [
    "# Complete the jumpingOnClouds function below.\n",
    "\n",
    "def jumpingOnClouds(c):\n",
    "    jump = 0\n",
    "    index = 0\n",
    "    while index < len(c)-1:\n",
    "        if index + 2 <= len(c) - 1:\n",
    "            if c[index+1] == 0 and c[index+2] == 0:\n",
    "                index = index + 2\n",
    "                jump += 1\n",
    "            elif c[index+1] == 0 and c[index+2] == 1:\n",
    "                index = index + 1\n",
    "                jump += 1\n",
    "            elif c[index+1] == 1:\n",
    "                index = index + 2\n",
    "                jump += 1\n",
    "        elif c[index+1] == 1:\n",
    "            index = index + 2\n",
    "            jump += 1\n",
    "        elif c[index+1] == 0:\n",
    "            index = index + 1\n",
    "            jump += 1\n",
    "    return jump"
   ]
  },
  {
   "cell_type": "code",
   "execution_count": 4,
   "metadata": {},
   "outputs": [],
   "source": [
    "if __name__ == '__main__':\n",
    "    \n",
    "    # Test Case 1\n",
    "    n = 7\n",
    "    c = [0, 0, 1, 0, 0, 1, 0]\n",
    "    result = jumpingOnClouds(c)\n",
    "    print(result)\n",
    "    \n",
    "    # Test Case 2\n",
    "    n = 6\n",
    "    c = [0, 0, 0, 1, 0, 0]\n",
    "    result = jumpingOnClouds(c)\n",
    "    print(result)"
   ]
  }
 ],
 "metadata": {
  "kernelspec": {
   "display_name": "Python 3",
   "language": "python",
   "name": "python3"
  },
  "language_info": {
   "codemirror_mode": {
    "name": "ipython",
    "version": 3
   },
   "file_extension": ".py",
   "mimetype": "text/x-python",
   "name": "python",
   "nbconvert_exporter": "python",
   "pygments_lexer": "ipython3",
   "version": "3.7.3"
  }
 },
 "nbformat": 4,
 "nbformat_minor": 2
}
