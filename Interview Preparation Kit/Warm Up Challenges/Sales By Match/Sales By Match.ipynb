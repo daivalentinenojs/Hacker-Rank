{
 "cells": [
  {
   "cell_type": "code",
   "execution_count": 1,
   "metadata": {},
   "outputs": [],
   "source": [
    "# Title           : Sales By Match\n",
    "# Created By      : Daivalentineno Janitra Salim\n",
    "# Created In      : Taiwan\n",
    "# Created On      : 5th October 2020 08:00 (GMT+8)\n",
    "# Last Updated By : -\n",
    "# Last Updated In : -\n",
    "# Last Updated On : -"
   ]
  },
  {
   "cell_type": "code",
   "execution_count": 2,
   "metadata": {},
   "outputs": [],
   "source": [
    "#!/bin/python3\n",
    "\n",
    "import math\n",
    "import os\n",
    "import random\n",
    "import re\n",
    "import sys"
   ]
  },
  {
   "cell_type": "code",
   "execution_count": 3,
   "metadata": {},
   "outputs": [],
   "source": [
    "# Complete the sockMerchant function below.\n",
    "\n",
    "def sockMerchant(n, ar):\n",
    "    max_value = max(ar)\n",
    "    arr = []\n",
    "    count = 0\n",
    "\n",
    "    for i in range(max_value):\n",
    "        arr.append(0)\n",
    "\n",
    "    for i in range(len(ar)):\n",
    "        arr[ar[i]-1] += 1\n",
    "    \n",
    "    for i in range(len(arr)):\n",
    "        count += int(arr[i]/2)\n",
    "    return count"
   ]
  },
  {
   "cell_type": "code",
   "execution_count": 4,
   "metadata": {},
   "outputs": [
    {
     "name": "stdout",
     "output_type": "stream",
     "text": [
      "3\n",
      "4\n"
     ]
    }
   ],
   "source": [
    "if __name__ == '__main__':\n",
    "    \n",
    "    # Test Case 1\n",
    "    n = 9\n",
    "    ar = [10, 20, 20, 10, 10, 30, 50, 10, 20]\n",
    "    result = sockMerchant(n, ar)\n",
    "    print(result)\n",
    "    \n",
    "    # Test Case 2\n",
    "    n = 10\n",
    "    ar = [1, 1, 3, 1, 2, 1, 3, 3, 3, 3]\n",
    "    result = sockMerchant(n, ar)\n",
    "    print(result)"
   ]
  }
 ],
 "metadata": {
  "kernelspec": {
   "display_name": "Python 3",
   "language": "python",
   "name": "python3"
  },
  "language_info": {
   "codemirror_mode": {
    "name": "ipython",
    "version": 3
   },
   "file_extension": ".py",
   "mimetype": "text/x-python",
   "name": "python",
   "nbconvert_exporter": "python",
   "pygments_lexer": "ipython3",
   "version": "3.7.3"
  }
 },
 "nbformat": 4,
 "nbformat_minor": 2
}
