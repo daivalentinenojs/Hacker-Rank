{
 "cells": [
  {
   "cell_type": "code",
   "execution_count": 1,
   "metadata": {},
   "outputs": [],
   "source": [
    "# Title           : Compare The Triplets\n",
    "# Created By      : Daivalentineno Janitra Salim\n",
    "# Created In      : Taiwan\n",
    "# Created On      : 8th October 2020 21:00 (GMT+8)\n",
    "# Last Updated By : -\n",
    "# Last Updated In : -\n",
    "# Last Updated On : -"
   ]
  },
  {
   "cell_type": "code",
   "execution_count": 2,
   "metadata": {},
   "outputs": [],
   "source": [
    "#!/bin/python3\n",
    "\n",
    "import math\n",
    "import os\n",
    "import random\n",
    "import re\n",
    "import sys"
   ]
  },
  {
   "cell_type": "code",
   "execution_count": 3,
   "metadata": {},
   "outputs": [],
   "source": [
    "# Complete the compareTriplets function below.\n",
    "\n",
    "def compareTriplets(a, b):\n",
    "    count_a, count_b = 0, 0\n",
    "    for i in range (len(a)):\n",
    "        if a[i] > b[i]:\n",
    "            count_a += 1\n",
    "        elif a[i] < b[i]:\n",
    "            count_b += 1\n",
    "    print (count_a, count_b)"
   ]
  },
  {
   "cell_type": "code",
   "execution_count": 4,
   "metadata": {},
   "outputs": [
    {
     "name": "stdout",
     "output_type": "stream",
     "text": [
      "1 1\n",
      "2 1\n"
     ]
    }
   ],
   "source": [
    "if __name__ == '__main__':\n",
    "    \n",
    "    # Test Case 1\n",
    "    a = [5, 6, 7]\n",
    "    b = [3, 6, 10]\n",
    "    compareTriplets(a, b)\n",
    "    \n",
    "    # Test Case 2\n",
    "    a = [17, 28, 30]\n",
    "    b = [99, 16, 8]\n",
    "    compareTriplets(a, b)"
   ]
  }
 ],
 "metadata": {
  "kernelspec": {
   "display_name": "Python 3",
   "language": "python",
   "name": "python3"
  },
  "language_info": {
   "codemirror_mode": {
    "name": "ipython",
    "version": 3
   },
   "file_extension": ".py",
   "mimetype": "text/x-python",
   "name": "python",
   "nbconvert_exporter": "python",
   "pygments_lexer": "ipython3",
   "version": "3.7.3"
  }
 },
 "nbformat": 4,
 "nbformat_minor": 2
}
