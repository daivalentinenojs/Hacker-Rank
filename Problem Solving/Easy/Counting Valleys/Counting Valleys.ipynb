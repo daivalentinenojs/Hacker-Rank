{
 "cells": [
  {
   "cell_type": "code",
   "execution_count": 1,
   "metadata": {},
   "outputs": [],
   "source": [
    "# Title           : Counting Valleys\n",
    "# Created By      : Daivalentineno Janitra Salim\n",
    "# Created In      : Taiwan\n",
    "# Created On      : 10th October 2020 10:30 (GMT+8)\n",
    "# Last Updated By : -\n",
    "# Last Updated In : -\n",
    "# Last Updated On : -"
   ]
  },
  {
   "cell_type": "code",
   "execution_count": 2,
   "metadata": {},
   "outputs": [],
   "source": [
    "#!/bin/python3\n",
    "\n",
    "import math\n",
    "import os\n",
    "import random\n",
    "import re\n",
    "import sys"
   ]
  },
  {
   "cell_type": "code",
   "execution_count": 3,
   "metadata": {},
   "outputs": [],
   "source": [
    "# Complete the countingValleys function below.\n",
    "\n",
    "def countingValleys(steps, path):\n",
    "    # Write your code here\n",
    "    count_step = 0\n",
    "    count_path = 0\n",
    "    count_path_before = \"\"\n",
    "\n",
    "    for i in range (len(path)):\n",
    "        if path[i] == \"U\":\n",
    "            count_path += 1\n",
    "            count_path_before = \"U\"\n",
    "        elif path[i] == \"D\":\n",
    "            count_path -= 1\n",
    "            count_path_before = \"D\"\n",
    "        \n",
    "        if count_path == 0 and count_path_before == \"U\":\n",
    "            count_step += 1\n",
    "        \n",
    "    return count_step"
   ]
  },
  {
   "cell_type": "code",
   "execution_count": 4,
   "metadata": {},
   "outputs": [
    {
     "name": "stdout",
     "output_type": "stream",
     "text": [
      "1\n",
      "2\n"
     ]
    }
   ],
   "source": [
    "if __name__ == '__main__':\n",
    "    \n",
    "    # Test Case 1\n",
    "    result = countingValleys(8, \"UDDDUDUU\")\n",
    "    print(result)\n",
    "    \n",
    "     # Test Case 2\n",
    "    result = countingValleys(12, \"DDUUDDUDUUUD\")\n",
    "    print(result)"
   ]
  }
 ],
 "metadata": {
  "kernelspec": {
   "display_name": "Python 3",
   "language": "python",
   "name": "python3"
  },
  "language_info": {
   "codemirror_mode": {
    "name": "ipython",
    "version": 3
   },
   "file_extension": ".py",
   "mimetype": "text/x-python",
   "name": "python",
   "nbconvert_exporter": "python",
   "pygments_lexer": "ipython3",
   "version": "3.7.3"
  }
 },
 "nbformat": 4,
 "nbformat_minor": 2
}
