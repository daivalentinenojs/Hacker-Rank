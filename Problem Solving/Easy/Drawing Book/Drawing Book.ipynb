{
 "cells": [
  {
   "cell_type": "code",
   "execution_count": 1,
   "metadata": {},
   "outputs": [],
   "source": [
    "# Title           : Drawing Book\n",
    "# Created By      : Daivalentineno Janitra Salim\n",
    "# Created In      : Taiwan\n",
    "# Created On      : 10th October 2020 10:00 (GMT+8)\n",
    "# Last Updated By : -\n",
    "# Last Updated In : -\n",
    "# Last Updated On : -"
   ]
  },
  {
   "cell_type": "code",
   "execution_count": 2,
   "metadata": {},
   "outputs": [],
   "source": [
    "#!/bin/python3\n",
    "\n",
    "import os\n",
    "import sys"
   ]
  },
  {
   "cell_type": "code",
   "execution_count": 3,
   "metadata": {},
   "outputs": [],
   "source": [
    "# Complete the pageCount function below.\n",
    "\n",
    "def pageCount(n, p):\n",
    "    count_1 = 0\n",
    "    for i in range (1, n, 2):\n",
    "        if i < p:\n",
    "            count_1 += 1\n",
    "    count_2 = 0\n",
    "    for i in range (n, 1, -2):\n",
    "        if n % 2 == 1:\n",
    "            if i - 1 > p:\n",
    "                count_2 += 1\n",
    "        else:\n",
    "            if i > p:\n",
    "                count_2 += 1\n",
    "    \n",
    "    if count_1 < count_2:\n",
    "        return count_1\n",
    "    else:\n",
    "        return count_2"
   ]
  },
  {
   "cell_type": "code",
   "execution_count": 4,
   "metadata": {},
   "outputs": [
    {
     "name": "stdout",
     "output_type": "stream",
     "text": [
      "1\n",
      "0\n"
     ]
    }
   ],
   "source": [
    "if __name__ == '__main__':\n",
    "    \n",
    "    # Test Case 1\n",
    "    result = pageCount(6, 2)\n",
    "    print(result)\n",
    "    \n",
    "     # Test Case 2\n",
    "    result = pageCount(5, 4)\n",
    "    print(result)"
   ]
  }
 ],
 "metadata": {
  "kernelspec": {
   "display_name": "Python 3",
   "language": "python",
   "name": "python3"
  },
  "language_info": {
   "codemirror_mode": {
    "name": "ipython",
    "version": 3
   },
   "file_extension": ".py",
   "mimetype": "text/x-python",
   "name": "python",
   "nbconvert_exporter": "python",
   "pygments_lexer": "ipython3",
   "version": "3.7.3"
  }
 },
 "nbformat": 4,
 "nbformat_minor": 2
}
