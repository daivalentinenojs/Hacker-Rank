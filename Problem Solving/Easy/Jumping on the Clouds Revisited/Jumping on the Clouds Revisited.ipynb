{
 "cells": [
  {
   "cell_type": "code",
   "execution_count": 1,
   "metadata": {},
   "outputs": [],
   "source": [
    "# Title           : Jumping on the Clouds : Revisited\n",
    "# Created By      : Daivalentineno Janitra Salim\n",
    "# Created In      : Taiwan\n",
    "# Created On      : 10th October 2020 12:00 (GMT+8)\n",
    "# Last Updated By : -\n",
    "# Last Updated In : -\n",
    "# Last Updated On : -"
   ]
  },
  {
   "cell_type": "code",
   "execution_count": 2,
   "metadata": {},
   "outputs": [],
   "source": [
    "#!/bin/python3\n",
    "\n",
    "import math\n",
    "import os\n",
    "import random\n",
    "import re\n",
    "import sys"
   ]
  },
  {
   "cell_type": "code",
   "execution_count": 3,
   "metadata": {},
   "outputs": [],
   "source": [
    "# Complete the jumpingOnClouds function below.\n",
    "\n",
    "def jumpingOnClouds(c, k):\n",
    "    jump = 0\n",
    "    current_jump = 0\n",
    "\n",
    "    while current_jump < len(c):\n",
    "        if current_jump + 2 < len(c) and c[current_jump + 2] == 0:\n",
    "            jump += 1\n",
    "            current_jump += 2\n",
    "        elif current_jump + 1 < len(c) and c[current_jump + 1] == 0:\n",
    "            jump += 1\n",
    "            current_jump += 1\n",
    "        else:\n",
    "            current_jump += 1\n",
    "    return jump"
   ]
  },
  {
   "cell_type": "code",
   "execution_count": 4,
   "metadata": {},
   "outputs": [
    {
     "name": "stdout",
     "output_type": "stream",
     "text": [
      "1\n",
      "2\n"
     ]
    }
   ],
   "source": [
    "if __name__ == '__main__':\n",
    "    \n",
    "    # Test Case 1\n",
    "    result = jumpingOnClouds(2, [0, 0, 1, 0, 0, 1, 1, 0])\n",
    "    print(result)\n",
    "    \n",
    "     # Test Case 2\n",
    "    result = jumpingOnClouds(3, [1, 1, 1, 0, 1, 1, 0, 0, 0, 0])\n",
    "    print(result)"
   ]
  }
 ],
 "metadata": {
  "kernelspec": {
   "display_name": "Python 3",
   "language": "python",
   "name": "python3"
  },
  "language_info": {
   "codemirror_mode": {
    "name": "ipython",
    "version": 3
   },
   "file_extension": ".py",
   "mimetype": "text/x-python",
   "name": "python",
   "nbconvert_exporter": "python",
   "pygments_lexer": "ipython3",
   "version": "3.7.3"
  }
 },
 "nbformat": 4,
 "nbformat_minor": 2
}
