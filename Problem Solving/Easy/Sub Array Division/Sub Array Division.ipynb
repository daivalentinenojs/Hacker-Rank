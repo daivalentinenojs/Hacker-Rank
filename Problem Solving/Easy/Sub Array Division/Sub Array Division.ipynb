{
 "cells": [
  {
   "cell_type": "code",
   "execution_count": 1,
   "metadata": {},
   "outputs": [],
   "source": [
    "# Title           : Sub Array Division\n",
    "# Created By      : Daivalentineno Janitra Salim\n",
    "# Created In      : Taiwan\n",
    "# Created On      : 9th October 2020 12:30 (GMT+8)\n",
    "# Last Updated By : -\n",
    "# Last Updated In : -\n",
    "# Last Updated On : -"
   ]
  },
  {
   "cell_type": "code",
   "execution_count": 2,
   "metadata": {},
   "outputs": [],
   "source": [
    "#!/bin/python3\n",
    "\n",
    "import math\n",
    "import os\n",
    "import random\n",
    "import re\n",
    "import sys"
   ]
  },
  {
   "cell_type": "code",
   "execution_count": 3,
   "metadata": {},
   "outputs": [],
   "source": [
    "# Complete the birthday function below.\n",
    "\n",
    "def birthday(s, d, m):\n",
    "    count = 0\n",
    "    for i in range (len(s) - m + 1):\n",
    "        index_m = 0\n",
    "        total_m = 0\n",
    "\n",
    "        while index_m < m:\n",
    "            total_m += s[i + index_m]\n",
    "            index_m += 1\n",
    "\n",
    "        if total_m == d:\n",
    "            count += 1\n",
    "    return count"
   ]
  },
  {
   "cell_type": "code",
   "execution_count": 4,
   "metadata": {},
   "outputs": [
    {
     "name": "stdout",
     "output_type": "stream",
     "text": [
      "2\n",
      "0\n",
      "1\n"
     ]
    }
   ],
   "source": [
    "if __name__ == '__main__':\n",
    "    \n",
    "    # Test Case 1\n",
    "    result = birthday([1, 2, 1, 3, 2], 3, 2)\n",
    "    print(result)\n",
    "    \n",
    "    # Test Case 2\n",
    "    result = birthday([1, 1, 1, 1, 1, 1], 3, 2)\n",
    "    print(result)\n",
    "    \n",
    "    # Test Case 3\n",
    "    result = birthday([4], 4, 1)\n",
    "    print(result)"
   ]
  }
 ],
 "metadata": {
  "kernelspec": {
   "display_name": "Python 3",
   "language": "python",
   "name": "python3"
  },
  "language_info": {
   "codemirror_mode": {
    "name": "ipython",
    "version": 3
   },
   "file_extension": ".py",
   "mimetype": "text/x-python",
   "name": "python",
   "nbconvert_exporter": "python",
   "pygments_lexer": "ipython3",
   "version": "3.7.3"
  }
 },
 "nbformat": 4,
 "nbformat_minor": 2
}
