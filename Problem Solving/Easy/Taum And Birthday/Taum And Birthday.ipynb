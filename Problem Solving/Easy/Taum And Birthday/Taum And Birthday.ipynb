{
 "cells": [
  {
   "cell_type": "code",
   "execution_count": 1,
   "metadata": {},
   "outputs": [],
   "source": [
    "# Title           : Taum And Birthday\n",
    "# Created By      : Daivalentineno Janitra Salim\n",
    "# Created In      : Taiwan\n",
    "# Created On      : 11th October 2020 11:00 (GMT+8)\n",
    "# Last Updated By : -\n",
    "# Last Updated In : -\n",
    "# Last Updated On : -"
   ]
  },
  {
   "cell_type": "code",
   "execution_count": 2,
   "metadata": {},
   "outputs": [],
   "source": [
    "#!/bin/python3\n",
    "\n",
    "import math\n",
    "import os\n",
    "import random\n",
    "import re\n",
    "import sys"
   ]
  },
  {
   "cell_type": "code",
   "execution_count": 3,
   "metadata": {},
   "outputs": [],
   "source": [
    "# Complete the taumBday function below.\n",
    "\n",
    "def taumBday(b, w, bc, wc, z):\n",
    "    # Write your code here\n",
    "    if bc > wc + z:\n",
    "        return (b + w) * wc + (b * z)\n",
    "    elif wc > bc + z:\n",
    "        return (b + w) * bc + (w * z)\n",
    "    else:\n",
    "        return bc * b + wc * w"
   ]
  },
  {
   "cell_type": "code",
   "execution_count": 4,
   "metadata": {},
   "outputs": [
    {
     "name": "stdout",
     "output_type": "stream",
     "text": [
      "20\n",
      "37\n",
      "12\n",
      "35\n",
      "12\n",
      "29\n"
     ]
    }
   ],
   "source": [
    "if __name__ == '__main__':\n",
    "    \n",
    "    # Test Case 1\n",
    "    result = taumBday(10, 10, 1, 1, 1)\n",
    "    print(result)\n",
    "    \n",
    "    # Test Case 2\n",
    "    result = taumBday(5, 9, 2, 3, 4)\n",
    "    print(result)\n",
    "    \n",
    "    # Test Case 3\n",
    "    result = taumBday(3, 6, 9, 1, 1)\n",
    "    print(result)\n",
    "    \n",
    "    # Test Case 4\n",
    "    result = taumBday(7, 7, 4, 2, 1)\n",
    "    print(result)\n",
    "    \n",
    "    # Test Case 5\n",
    "    result = taumBday(3, 3, 1, 9, 2)\n",
    "    print(result)\n",
    "    \n",
    "    # Test Case 6\n",
    "    result = taumBday(3, 5, 3, 4, 1)\n",
    "    print(result)"
   ]
  },
  {
   "cell_type": "code",
   "execution_count": null,
   "metadata": {},
   "outputs": [],
   "source": []
  }
 ],
 "metadata": {
  "kernelspec": {
   "display_name": "Python 3",
   "language": "python",
   "name": "python3"
  },
  "language_info": {
   "codemirror_mode": {
    "name": "ipython",
    "version": 3
   },
   "file_extension": ".py",
   "mimetype": "text/x-python",
   "name": "python",
   "nbconvert_exporter": "python",
   "pygments_lexer": "ipython3",
   "version": "3.7.3"
  }
 },
 "nbformat": 4,
 "nbformat_minor": 2
}
