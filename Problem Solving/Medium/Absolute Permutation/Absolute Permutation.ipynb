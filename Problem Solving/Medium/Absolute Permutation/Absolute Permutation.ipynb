{
 "cells": [
  {
   "cell_type": "code",
   "execution_count": 1,
   "metadata": {},
   "outputs": [],
   "source": [
    "# Title           : Absolute Permutation\n",
    "# Created By      : Daivalentineno Janitra Salim\n",
    "# Created In      : Taiwan\n",
    "# Created On      : 11th October 2020 18:00 (GMT+8)\n",
    "# Last Updated By : -\n",
    "# Last Updated In : -\n",
    "# Last Updated On : -"
   ]
  },
  {
   "cell_type": "code",
   "execution_count": 2,
   "metadata": {},
   "outputs": [],
   "source": [
    "#!/bin/python3\n",
    "\n",
    "import math\n",
    "import os\n",
    "import random\n",
    "import re\n",
    "import sys"
   ]
  },
  {
   "cell_type": "code",
   "execution_count": 3,
   "metadata": {},
   "outputs": [],
   "source": [
    "# Complete the absolutePermutation function below.\n",
    "\n",
    "def absolutePermutation(n, k):\n",
    "    if k == 0:\n",
    "        return [i for i in range (1, n +1)]\n",
    "    elif n % (2 * k) != 0:\n",
    "        return [-1]\n",
    "    else:\n",
    "        res = [None] * (n+1)\n",
    "        for i in range (1, n+1):\n",
    "            if res[i] is None:\n",
    "                res[i] = i + k\n",
    "                res[i+k] = i\n",
    "        return res[1:]"
   ]
  },
  {
   "cell_type": "code",
   "execution_count": 4,
   "metadata": {},
   "outputs": [
    {
     "name": "stdout",
     "output_type": "stream",
     "text": [
      "[2, 1]\n",
      "[1, 2, 3]\n",
      "[-1]\n",
      "[2, 1]\n",
      "[6, 7, 8, 9, 10, 1, 2, 3, 4, 5]\n",
      "[-1]\n",
      "[2, 1]\n",
      "[1, 2]\n",
      "[1]\n",
      "[1, 2, 3, 4, 5, 6, 7, 8, 9, 10]\n",
      "[1, 2, 3, 4, 5, 6]\n"
     ]
    }
   ],
   "source": [
    "if __name__ == '__main__':\n",
    "    \n",
    "    # Test Case 1\n",
    "    result = absolutePermutation(2, 1)\n",
    "    print(result)\n",
    "    \n",
    "    # Test Case 2\n",
    "    result = absolutePermutation(3, 0)\n",
    "    print(result)\n",
    "    \n",
    "    # Test Case 3\n",
    "    result = absolutePermutation(3, 2)\n",
    "    print(result)\n",
    "    \n",
    "    # Test Case 4\n",
    "    result = absolutePermutation(2, 1)\n",
    "    print(result)\n",
    "    \n",
    "    # Test Case 5\n",
    "    result = absolutePermutation(10, 5)\n",
    "    print(result)\n",
    "    \n",
    "    # Test Case 6\n",
    "    result = absolutePermutation(7, 5)\n",
    "    print(result)\n",
    "    \n",
    "    # Test Case 7\n",
    "    result = absolutePermutation(2, 1)\n",
    "    print(result)\n",
    "    \n",
    "    # Test Case 8\n",
    "    result = absolutePermutation(2, 0)\n",
    "    print(result)\n",
    "    \n",
    "    # Test Case 9\n",
    "    result = absolutePermutation(1, 0)\n",
    "    print(result)\n",
    "    \n",
    "    # Test Case 10\n",
    "    result = absolutePermutation(10, 0)\n",
    "    print(result)\n",
    "    \n",
    "    # Test Case 11\n",
    "    result = absolutePermutation(6, 0)\n",
    "    print(result)"
   ]
  },
  {
   "cell_type": "code",
   "execution_count": null,
   "metadata": {},
   "outputs": [],
   "source": []
  }
 ],
 "metadata": {
  "kernelspec": {
   "display_name": "Python 3",
   "language": "python",
   "name": "python3"
  },
  "language_info": {
   "codemirror_mode": {
    "name": "ipython",
    "version": 3
   },
   "file_extension": ".py",
   "mimetype": "text/x-python",
   "name": "python",
   "nbconvert_exporter": "python",
   "pygments_lexer": "ipython3",
   "version": "3.7.3"
  }
 },
 "nbformat": 4,
 "nbformat_minor": 2
}
