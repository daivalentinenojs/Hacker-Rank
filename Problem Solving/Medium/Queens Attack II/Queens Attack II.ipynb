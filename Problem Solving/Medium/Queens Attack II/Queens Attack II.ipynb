{
 "cells": [
  {
   "cell_type": "code",
   "execution_count": 1,
   "metadata": {},
   "outputs": [],
   "source": [
    "# Title           : Queens Attack II\n",
    "# Created By      : Daivalentineno Janitra Salim\n",
    "# Created In      : Taiwan\n",
    "# Created On      : 11th October 2020 15:30 (GMT+8)\n",
    "# Last Updated By : -\n",
    "# Last Updated In : -\n",
    "# Last Updated On : -"
   ]
  },
  {
   "cell_type": "code",
   "execution_count": 2,
   "metadata": {},
   "outputs": [],
   "source": [
    "#!/bin/python3\n",
    "\n",
    "import math\n",
    "import os\n",
    "import random\n",
    "import re\n",
    "import sys"
   ]
  },
  {
   "cell_type": "code",
   "execution_count": 3,
   "metadata": {},
   "outputs": [],
   "source": [
    "# Complete the queensAttack function below.\n",
    "\n",
    "def queensAttack(n, k, r_q, c_q, obstacles):\n",
    "    # There is no obstacles\n",
    "    left = c_q - 1\n",
    "    right = n - c_q\n",
    "    up = n - r_q\n",
    "    down = r_q - 1\n",
    "    upleft = left if up >= left else up\n",
    "    upright = right if up >= right else up\n",
    "    downleft = left if down >= left else down\n",
    "    downright = right if down >= right else down\n",
    "\n",
    "    # Obstacles\n",
    "    for obs in obstacles:\n",
    "        row = obs[0]\n",
    "        col = obs [1]\n",
    "\n",
    "        if row == r_q and col < c_q:\n",
    "            if c_q - col - 1 < left:\n",
    "                left = c_q - col - 1\n",
    "        elif row == r_q and col > c_q:\n",
    "            if col - c_q - 1 < right:\n",
    "                right = col - c_q - 1"
   ]
  },
  {
   "cell_type": "code",
   "execution_count": 4,
   "metadata": {},
   "outputs": [
    {
     "name": "stdout",
     "output_type": "stream",
     "text": [
      "15511210043330985984000000\n",
      "119622220865480194561963161495657715064383733760000000000\n"
     ]
    }
   ],
   "source": [
    "if __name__ == '__main__':\n",
    "    \n",
    "    # Test Case 1\n",
    "    result = queensAttack(n, k, r_q, c_q, obstacles)\n",
    "    print(result)\n",
    "    \n",
    "    # Test Case 2\n",
    "    result = queensAttack(n, k, r_q, c_q, obstacles)\n",
    "    print(result)"
   ]
  }
 ],
 "metadata": {
  "kernelspec": {
   "display_name": "Python 3",
   "language": "python",
   "name": "python3"
  },
  "language_info": {
   "codemirror_mode": {
    "name": "ipython",
    "version": 3
   },
   "file_extension": ".py",
   "mimetype": "text/x-python",
   "name": "python",
   "nbconvert_exporter": "python",
   "pygments_lexer": "ipython3",
   "version": "3.7.3"
  }
 },
 "nbformat": 4,
 "nbformat_minor": 2
}
